{
 "cells": [
  {
   "cell_type": "code",
   "execution_count": 9,
   "metadata": {
    "collapsed": true
   },
   "outputs": [],
   "source": [
    "import os\n",
    "root = os.getcwd()\n",
    "file = os.path.join(root,'a','c','d')\n",
    "if not os.path.exists(file):\n",
    "        os.makedirs(file)"
   ]
  },
  {
   "cell_type": "code",
   "execution_count": 22,
   "metadata": {},
   "outputs": [],
   "source": [
    "str='''4561   23\n",
    "[CQ:image,file=188fe9365ef6abe3b67bb2fa18e99d43.image]'''\n",
    "str=str.split()\n",
    "temp=''\n",
    "for i in str:\n",
    "    temp+=i"
   ]
  },
  {
   "cell_type": "code",
   "execution_count": 24,
   "metadata": {},
   "outputs": [
    {
     "output_type": "execute_result",
     "data": {
      "text/plain": [
       "'456123[CQ:image,file=188fe9365ef6abe3b67bb2fa18e99d43.image]'"
      ]
     },
     "metadata": {},
     "execution_count": 24
    }
   ],
   "source": [
    "temp"
   ]
  },
  {
   "cell_type": "code",
   "execution_count": 57,
   "metadata": {},
   "outputs": [],
   "source": [
    "import re\n",
    "answer = '答sfearearter[CQ:image,file=f46784e63445c8b7b62e06bbca04d608.image][CQ:at,qq=614867321][CQ:image,file=f46784e63445c8b7b62e06bbca04d608.image]'\n",
    "answer_res=re.match(r'.*\\[CQ:image,file=(.+\\.image)\\].*',answer)"
   ]
  },
  {
   "cell_type": "code",
   "execution_count": 59,
   "metadata": {},
   "outputs": [
    {
     "output_type": "execute_result",
     "data": {
      "text/plain": [
       "('f46784e63445c8b7b62e06bbca04d608.image',)"
      ]
     },
     "metadata": {},
     "execution_count": 59
    }
   ],
   "source": [
    "answer_res.groups()"
   ]
  },
  {
   "cell_type": "code",
   "execution_count": 78,
   "metadata": {},
   "outputs": [],
   "source": [
    "import re\n",
    "msg = '暗熵 猎人'\n",
    "res = msg.split()"
   ]
  },
  {
   "cell_type": "code",
   "execution_count": 79,
   "metadata": {},
   "outputs": [
    {
     "output_type": "execute_result",
     "data": {
      "text/plain": [
       "['暗熵', '猎人']"
      ]
     },
     "metadata": {},
     "execution_count": 79
    }
   ],
   "source": [
    "res"
   ]
  },
  {
   "cell_type": "code",
   "execution_count": 82,
   "metadata": {},
   "outputs": [
    {
     "output_type": "stream",
     "name": "stdout",
     "text": [
      "True\n"
     ]
    }
   ],
   "source": [
    "checkmsg = '术士'\n",
    "print(checkmsg in ['术士', '猎人', '泰坦'])"
   ]
  },
  {
   "cell_type": "code",
   "execution_count": 1,
   "metadata": {},
   "outputs": [
    {
     "output_type": "stream",
     "name": "stdout",
     "text": [
      "['sdfesfewrfew', 'sdfesfewrfew']\n"
     ]
    }
   ],
   "source": [
    "list1 = ['','']\n",
    "for i in range(2):\n",
    "    list1[i] += 'sdfesfewrfew'\n",
    "print(list1)"
   ]
  },
  {
   "cell_type": "code",
   "execution_count": 2,
   "metadata": {},
   "outputs": [
    {
     "output_type": "execute_result",
     "data": {
      "text/plain": [
       "['a', 'b', 'c']"
      ]
     },
     "metadata": {},
     "execution_count": 2
    }
   ],
   "source": [
    "str = 'a b c '\n",
    "str.split()"
   ]
  },
  {
   "cell_type": "code",
   "execution_count": 3,
   "metadata": {},
   "outputs": [],
   "source": [
    "str2 = f'{list1[0]}'"
   ]
  },
  {
   "cell_type": "code",
   "execution_count": 4,
   "metadata": {},
   "outputs": [
    {
     "output_type": "execute_result",
     "data": {
      "text/plain": [
       "'sdfesfewrfew'"
      ]
     },
     "metadata": {},
     "execution_count": 4
    }
   ],
   "source": [
    "str2"
   ]
  },
  {
   "cell_type": "code",
   "execution_count": 20,
   "metadata": {},
   "outputs": [],
   "source": [
    "import re\n",
    "checkmsg='狼宝 术士'\n",
    "res = re.match(r'(.*) *(术士|猎人|泰坦) *', checkmsg)"
   ]
  },
  {
   "cell_type": "code",
   "execution_count": 21,
   "metadata": {},
   "outputs": [
    {
     "output_type": "stream",
     "name": "stdout",
     "text": [
      "<re.Match object; span=(0, 5), match='狼宝 术士'>\n"
     ]
    }
   ],
   "source": [
    "print(res)"
   ]
  },
  {
   "cell_type": "code",
   "execution_count": 22,
   "metadata": {},
   "outputs": [
    {
     "output_type": "execute_result",
     "data": {
      "text/plain": [
       "('狼宝 ', '术士')"
      ]
     },
     "metadata": {},
     "execution_count": 22
    }
   ],
   "source": [
    "res.groups()"
   ]
  },
  {
   "cell_type": "code",
   "execution_count": 5,
   "metadata": {},
   "outputs": [],
   "source": [
    "a = [100,200,300]\n",
    "a.extend([500,700])"
   ]
  },
  {
   "cell_type": "code",
   "execution_count": 6,
   "metadata": {},
   "outputs": [
    {
     "output_type": "execute_result",
     "data": {
      "text/plain": [
       "[100, 200, 300, 500, 700]"
      ]
     },
     "metadata": {},
     "execution_count": 6
    }
   ],
   "source": [
    "a"
   ]
  },
  {
   "cell_type": "code",
   "execution_count": 2,
   "metadata": {},
   "outputs": [
    {
     "output_type": "stream",
     "name": "stdout",
     "text": [
      "[500, 600, 300]\n"
     ]
    }
   ],
   "source": [
    "def temp(aa,bc:list=[]):\n",
    "    bc.extend([300])\n",
    "    print(bc)\n",
    "\n",
    "temp('cc',[500,600])"
   ]
  },
  {
   "cell_type": "code",
   "execution_count": 5,
   "metadata": {},
   "outputs": [
    {
     "output_type": "execute_result",
     "data": {
      "text/plain": [
       "'asd123456'"
      ]
     },
     "metadata": {},
     "execution_count": 5
    }
   ],
   "source": [
    "msg = 'asd123456'\n",
    "temp = f'{msg:2}'\n",
    "temp"
   ]
  },
  {
   "cell_type": "code",
   "execution_count": 8,
   "outputs": [
    {
     "name": "stdout",
     "output_type": "stream",
     "text": [
      "('123456', '1', '拒绝')\n"
     ]
    }
   ],
   "source": [
    "import re\n",
    "msg = '123456 1 拒绝'\n",
    "res =re.match(r'(\\d+) *([01]) *(\\w+)?', msg)\n",
    "print(res.groups())"
   ],
   "metadata": {
    "collapsed": false,
    "pycharm": {
     "name": "#%%\n"
    }
   }
  },
  {
   "cell_type": "code",
   "execution_count": 1,
   "metadata": {},
   "outputs": [],
   "source": [
    "msg = '啊这456'\n",
    "msg = msg[:2]"
   ]
  },
  {
   "cell_type": "code",
   "execution_count": 2,
   "metadata": {},
   "outputs": [
    {
     "output_type": "execute_result",
     "data": {
      "text/plain": [
       "'啊这'"
      ]
     },
     "metadata": {},
     "execution_count": 2
    }
   ],
   "source": [
    "msg"
   ]
  },
  {
   "cell_type": "code",
   "execution_count": 2,
   "metadata": {},
   "outputs": [
    {
     "output_type": "execute_result",
     "data": {
      "text/plain": [
       "False"
      ]
     },
     "metadata": {},
     "execution_count": 2
    }
   ],
   "source": [
    "(4 & 1) > 0"
   ]
  },
  {
   "cell_type": "code",
   "execution_count": 41,
   "metadata": {},
   "outputs": [],
   "source": [
    "import re\n",
    "checkmsg = 'abcd'\n",
    "res = re.match(r'(\\w+) *(\\d*)', checkmsg)"
   ]
  },
  {
   "cell_type": "code",
   "execution_count": 42,
   "metadata": {},
   "outputs": [
    {
     "output_type": "execute_result",
     "data": {
      "text/plain": [
       "('abcd', '')"
      ]
     },
     "metadata": {},
     "execution_count": 42
    }
   ],
   "source": [
    "res.groups()"
   ]
  },
  {
   "cell_type": "code",
   "execution_count": 1,
   "metadata": {},
   "outputs": [],
   "source": [
    "import json\n",
    "import pydest\n",
    "import asyncio\n",
    "import time\n",
    "import aiohttp\n",
    "from PIL import Image, ImageDraw, ImageFont\n",
    "import datetime"
   ]
  },
  {
   "cell_type": "code",
   "execution_count": 2,
   "metadata": {},
   "outputs": [],
   "source": [
    "API_KEY = '19a8efe4509a4570bee47bd9883f7d93'\n",
    "destiny = pydest.Pydest(API_KEY)"
   ]
  },
  {
   "cell_type": "code",
   "execution_count": 6,
   "metadata": {},
   "outputs": [],
   "source": [
    "classdict = {3655393761: '泰坦', 671679327: '猎人', 2271682572: '术士',\n",
    "             '泰坦': 3655393761, '猎人': 671679327, '术士': 2271682572}"
   ]
  },
  {
   "cell_type": "code",
   "execution_count": 14,
   "metadata": {},
   "outputs": [],
   "source": [
    "async def zhanji():\n",
    "    activityList = []\n",
    "    res = await destiny.api.get_profile(3, 4611686018490579151, [100, 200])\n",
    "    characters = res['Response']['characters']['data']\n",
    "    characterIdList = list(characters.keys())\n",
    "    for characterId in characterIdList:\n",
    "        className = classdict[characters[characterId]['classHash']]\n",
    "        activities = await destiny.api.get_activity_history(3, 4611686018490579151, characterId, 50,mode=None)\n",
    "        activities = activities['Response']['activities']\n",
    "        for i in activities:\n",
    "            i['characterId'] = characterId\n",
    "            i['className'] = className\n",
    "        activityList.extend(activities)\n",
    "        \n",
    "    activityList_order = sorted(\n",
    "        activityList, key=lambda x: x['period'], reverse=True)\n",
    "    activityListToBeUsed = activityList_order[:50]\n",
    "    return activityListToBeUsed"
   ]
  },
  {
   "cell_type": "code",
   "execution_count": 15,
   "metadata": {},
   "outputs": [],
   "source": [
    "activityListToBeUsed = await zhanji()"
   ]
  },
  {
   "cell_type": "code",
   "execution_count": 127,
   "metadata": {},
   "outputs": [],
   "source": [
    "奇数颜色 = '#292929'\n",
    "偶数颜色 = '#1F1F1F'\n",
    "奇数块 = Image.new('RGB', [1000, 100], 奇数颜色)\n",
    "偶数块 = Image.new('RGB', [1000, 100], 偶数颜色)\n",
    "# 标题块 = Image.new('RGB', [1000, 40], '#3D3D3D')\n",
    "Length = len(activityListToBeUsed)\n",
    "activityRaw = Image.new('RGB', [1000, 80+Length*100], '#303030')\n",
    "# activityRaw.paste(标题块,[0,40])\n",
    "\n",
    "绿色 = '#3D8D4D'\n",
    "红色 = '#8F2020'\n",
    "标题 = ImageFont.truetype('MYingHeiPRC-W7.ttf',size=20)\n",
    "KD字体 = ImageFont.truetype('MYingHeiPRC-W7.ttf',size=36)\n",
    "KD标题字体 = ImageFont.truetype('MYingHeiPRC-W4.ttf',size=20)\n",
    "中字 = ImageFont.truetype('MYingHeiPRC-W5.ttf',size=16)\n",
    "小字 = ImageFont.truetype('MYingHeiPRC-W3.ttf',size=16)\n",
    "\n",
    "draw = ImageDraw.Draw(activityRaw)\n",
    "\n",
    "draw.text([60,15],\n",
    "        f'小日向战绩查询: 何志武223',\n",
    "        font=KD字体, \n",
    "        fill='white'\n",
    "        )\n",
    "\n",
    "for i in range(50):\n",
    "    if i % 2 ==0:\n",
    "        activityRaw.paste(偶数块,[0,80+i*100])\n",
    "    else:\n",
    "        activityRaw.paste(奇数块,[0,80+i*100])\n",
    "\n",
    "\n",
    "    draw.text([60,95+i*100],\n",
    "        f'严酷考验：宗师: 堕落者S.A.B.E.R.',\n",
    "        font=标题, \n",
    "        fill='white'\n",
    "        )\n",
    "\n",
    "    draw.text([60,125+i*100],\n",
    "        f'▢ 严酷考验：宗师: 堕落者S.A.B.E.R.',\n",
    "        font=小字, \n",
    "        fill='white'\n",
    "        )\n",
    "\n",
    "    draw.text([60,150+i*100],\n",
    "        f'▢ 32分钟前 · 用时 32m 6s',\n",
    "        font=小字, \n",
    "        fill='white'\n",
    "        )\n",
    "\n",
    "    draw.text([410,95+i*100],\n",
    "        f'K: 99',\n",
    "        font=中字, \n",
    "        fill='white')\n",
    "\n",
    "    draw.text([410,120+i*100],\n",
    "        f'D: 99',\n",
    "        font=中字, \n",
    "        fill='white'\n",
    "        )\n",
    "    draw.text([410,145+i*100],\n",
    "        f'A: 99',\n",
    "        font=中字, \n",
    "        fill='white'\n",
    "        )\n",
    "\n",
    "    KandD = 99 + 99\n",
    "    try:\n",
    "        D长度 = int(150 * 99 / KandD)\n",
    "    except:\n",
    "        D长度 = 0\n",
    "    K长度 = 150 - D长度\n",
    "    KD_K = Image.new('RGB', [K长度, 10], 绿色)\n",
    "    KD_D = Image.new('RGB', [D长度, 10], 红色)\n",
    "    activityRaw.paste(KD_K, (490, 135+100*i))\n",
    "    activityRaw.paste(KD_D, (490 + K长度, 135+100*i))\n",
    "    w,h = KD字体.getsize('3.6')\n",
    "    draw.text([640-w,90+i*100],\n",
    "        f'3.6',\n",
    "        font=KD字体, \n",
    "        fill='white'\n",
    "        )\n",
    "    draw.text([490,150+i*100],\n",
    "        f'KD',\n",
    "        font=KD标题字体, \n",
    "        fill='white'\n",
    "        )\n",
    "    draw.text([700,90+i*100],\n",
    "        f'35,642',\n",
    "        font=KD字体, \n",
    "        fill='white'\n",
    "        )\n",
    "    draw.text([700,135+i*100],\n",
    "        f'SCORE',\n",
    "        font=KD标题字体, \n",
    "        fill='white'\n",
    "        )\n",
    "    draw.text([850,90+i*100],\n",
    "        f'术士',\n",
    "        font=KD字体, \n",
    "        fill='white'\n",
    "        )\n",
    "    draw.text([850,135+i*100],\n",
    "        f'CHARACTER',\n",
    "        font=KD标题字体, \n",
    "        fill='white'\n",
    "        )\n",
    "\n",
    "    \n",
    "\n",
    "\n",
    "activityRaw.save('test_activity.png','png')\n",
    "\n",
    "\n"
   ]
  },
  {
   "cell_type": "code",
   "execution_count": null,
   "metadata": {},
   "outputs": [],
   "source": [
    "for i in range(50):\n",
    "        activitiy = activityListToBeUsed[i]\n",
    "        res = await destiny.decode_hash(activitiy['activityDetails']['directorActivityHash'], 'DestinyActivityDefinition')\n",
    "        res2 = await destiny.decode_hash(activitiy['activityDetails']['referenceId'], 'DestinyActivityDefinition')\n",
    "        modeNum = activitiy['activityDetails']['modes']\n",
    "        模式 = res['displayProperties']['name']\n",
    "        名称 = res2['displayProperties']['name']\n",
    "        时间 = get_activity_time(activitiy['period'])\n",
    "        K = activitiy['values']['kills']['basic']['displayValue']\n",
    "        D = activitiy['values']['deaths']['basic']['displayValue']\n",
    "        A = activitiy['values']['assists']['basic']['displayValue']\n",
    "        KD = activitiy['values']['killsDeathsRatio']['basic']['displayValue']\n",
    "        进行时间 = activitiy['values']['activityDurationSeconds']['basic']['displayValue']\n",
    "        Score = activitiy['values']['score']['basic']['displayValue']"
   ]
  }
 ],
 "metadata": {
  "kernelspec": {
   "name": "python391jvsc74a57bd0ba9d9ab4d10f7a6d7c7804439b1c2bb6c6479f75c7d2a8f2b3be95f7484edd36",
   "display_name": "Python 3.9.1 64-bit"
  },
  "language_info": {
   "codemirror_mode": {
    "name": "ipython",
    "version": 2
   },
   "file_extension": ".py",
   "mimetype": "text/x-python",
   "name": "python",
   "nbconvert_exporter": "python",
   "pygments_lexer": "ipython2",
   "version": "3.9.1"
  }
 },
 "nbformat": 4,
 "nbformat_minor": 0
}