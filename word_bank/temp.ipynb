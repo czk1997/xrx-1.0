{
 "metadata": {
  "language_info": {
   "codemirror_mode": {
    "name": "ipython",
    "version": 3
   },
   "file_extension": ".py",
   "mimetype": "text/x-python",
   "name": "python",
   "nbconvert_exporter": "python",
   "pygments_lexer": "ipython3",
   "version": "3.9.1-final"
  },
  "orig_nbformat": 2,
  "kernelspec": {
   "name": "python3",
   "display_name": "Python 3",
   "language": "python"
  }
 },
 "nbformat": 4,
 "nbformat_minor": 2,
 "cells": [
  {
   "cell_type": "code",
   "execution_count": 2,
   "metadata": {},
   "outputs": [],
   "source": [
    "import re\n",
    "raw_message='AddAll 问68答[CQ:image,file=596314c58d19e4f8a024a0dbb5ade0f2.image,url=http://gchat.qpic.cn/gchatpic_new/614867321/924371658-2192642028-596314C58D19E4F8A024A0DBB5ADE0F2/0?term=3]'\n",
    "res = re.match(r'AddAll 问(.+)答(.+)', raw_message)"
   ]
  },
  {
   "cell_type": "code",
   "execution_count": 4,
   "metadata": {},
   "outputs": [
    {
     "output_type": "execute_result",
     "data": {
      "text/plain": [
       "('68',\n",
       " '[CQ:image,file=596314c58d19e4f8a024a0dbb5ade0f2.image,url=http://gchat.qpic.cn/gchatpic_new/614867321/924371658-2192642028-596314C58D19E4F8A024A0DBB5ADE0F2/0?term=3]')"
      ]
     },
     "metadata": {},
     "execution_count": 4
    }
   ],
   "source": [
    "res.groups()"
   ]
  },
  {
   "cell_type": "code",
   "execution_count": 5,
   "metadata": {},
   "outputs": [
    {
     "output_type": "execute_result",
     "data": {
      "text/plain": [
       "False"
      ]
     },
     "metadata": {},
     "execution_count": 5
    }
   ],
   "source": [
    "not res"
   ]
  },
  {
   "cell_type": "code",
   "execution_count": 6,
   "metadata": {},
   "outputs": [],
   "source": [
    "path = 'file:///C://HoshinoBot//res//destiny2//reply//6b777530511e472c6600e8df1576eae6.image.gif'\n",
    "if os.path.exists(path):\n",
    "    os.remove(path)"
   ]
  },
  {
   "cell_type": "code",
   "execution_count": 3,
   "metadata": {},
   "outputs": [],
   "source": [
    "import re\n",
    "raw_message = '添加 【测试1】【5686'\n",
    "res = re.match(r'添加.*【(.+)】.*【(.+)】?', raw_message)\n",
    "answer = res.group(2)\n",
    "if '】' in answer:\n",
    "    answer = answer.replace('】','')"
   ]
  },
  {
   "cell_type": "code",
   "execution_count": 4,
   "metadata": {},
   "outputs": [
    {
     "output_type": "execute_result",
     "data": {
      "text/plain": [
       "'5686'"
      ]
     },
     "metadata": {},
     "execution_count": 4
    }
   ],
   "source": [
    "answer"
   ]
  },
  {
   "cell_type": "code",
   "execution_count": 24,
   "metadata": {},
   "outputs": [
    {
     "output_type": "execute_result",
     "data": {
      "text/plain": [
       "('测试1', '5686')"
      ]
     },
     "metadata": {},
     "execution_count": 24
    }
   ],
   "source": [
    "res.groups()"
   ]
  },
  {
   "cell_type": "code",
   "execution_count": 8,
   "metadata": {},
   "outputs": [],
   "source": [
    "import re\n",
    "raw_message = '''添加 【测试6】【命运2天梯手炮怎么才能打得更准? 命运2是非常多玩家都喜欢的游戏，近期命运2将在steam打折，下面就为大家带来了命运2技巧分享，想了解的玩家快来看看吧。\n",
    "\n",
    "命运2天梯手炮技巧分享\n",
    "\n",
    "打手炮的关键点在于什么?在于爆头，拿到最高的伤害比。.\n",
    "\n",
    "那么，怎么爆头呢?很简单，只要长按右键开镜，移动鼠标，把准星放到敌人头上\n",
    "\n",
    "就完成了，如果敌人头比较小，那就多瞄几秒钟，或者瞄准敌人的颈部，是不是很简单呢。天梯手炮的瞄准，长按右键开镜就行。】'''\n",
    "res = re.match(r'添加.*【(.+)】.*【(.*)(】?)', raw_message)"
   ]
  },
  {
   "cell_type": "code",
   "execution_count": 9,
   "metadata": {},
   "outputs": [
    {
     "output_type": "execute_result",
     "data": {
      "text/plain": [
       "('测试6',\n",
       " '命运2天梯手炮怎么才能打得更准? 命运2是非常多玩家都喜欢的游戏，近期命运2将在steam打折，下面就为大家带来了命运2技巧分享，想了解的玩家快来看看吧。',\n",
       " '')"
      ]
     },
     "metadata": {},
     "execution_count": 9
    }
   ],
   "source": [
    "res.groups()"
   ]
  },
  {
   "cell_type": "code",
   "execution_count": 27,
   "metadata": {},
   "outputs": [],
   "source": [
    "import re\n",
    "\n",
    "res = re.match(r'AddAll.*[\\(|（|【|/](.+)[\\)|）|】|/].*[\\(|（|【](.+)[\\)|）|】].*',raw)"
   ]
  },
  {
   "cell_type": "code",
   "execution_count": 28,
   "metadata": {},
   "outputs": [
    {
     "output_type": "execute_result",
     "data": {
      "text/plain": [
       "('1',\n",
       " '这里是个测试小测试\\\\r\\\\n这里有个换行\\\\r\\\\n下面有个换行加图片\\\\r\\\\n\\\\r\\\\n[CQ:image,file=0965355524cb9135f18e50a54c61db13.image]\\\\r\\\\n\\\\r\\\\n换了3行')"
      ]
     },
     "metadata": {},
     "execution_count": 28
    }
   ],
   "source": [
    "res.groups()"
   ]
  },
  {
   "cell_type": "code",
   "execution_count": 1,
   "metadata": {},
   "outputs": [
    {
     "output_type": "execute_result",
     "data": {
      "text/plain": [
       "2"
      ]
     },
     "metadata": {},
     "execution_count": 1
    }
   ],
   "source": [
    "temp={'1':'2','2':'2'}\n",
    "len(temp)"
   ]
  },
  {
   "cell_type": "code",
   "execution_count": 24,
   "metadata": {},
   "outputs": [],
   "source": [
    "raw = 'AddAll 456456 /1/（这里是个测试小测试\\r\\n这里有个换行\\r\\n下面有个换行加图片\\r\\n\\r\\n[CQ:image,file=0965355524cb9135f18e50a54c61db13.image]\\r\\n\\r\\n换了3行）45654654 '\n"
   ]
  },
  {
   "cell_type": "code",
   "execution_count": 25,
   "metadata": {},
   "outputs": [],
   "source": [
    "raw=raw.replace('\\r',r'\\r')\n",
    "raw=raw.replace('\\n',r'\\n')"
   ]
  },
  {
   "cell_type": "code",
   "execution_count": 26,
   "metadata": {},
   "outputs": [
    {
     "output_type": "execute_result",
     "data": {
      "text/plain": [
       "'AddAll 456456 /1/（这里是个测试小测试\\\\r\\\\n这里有个换行\\\\r\\\\n下面有个换行加图片\\\\r\\\\n\\\\r\\\\n[CQ:image,file=0965355524cb9135f18e50a54c61db13.image]\\\\r\\\\n\\\\r\\\\n换了3行）45654654 '"
      ]
     },
     "metadata": {},
     "execution_count": 26
    }
   ],
   "source": [
    "raw"
   ]
  },
  {
   "cell_type": "code",
   "execution_count": 31,
   "metadata": {},
   "outputs": [],
   "source": [
    "res2 = re.match(r'(\\[.*\\])','[rthgrty5y   454]')"
   ]
  },
  {
   "cell_type": "code",
   "execution_count": 32,
   "metadata": {},
   "outputs": [
    {
     "output_type": "execute_result",
     "data": {
      "text/plain": [
       "('[rthgrty5y   454]',)"
      ]
     },
     "metadata": {},
     "execution_count": 32
    }
   ],
   "source": [
    "res2.groups()"
   ]
  },
  {
   "cell_type": "code",
   "execution_count": 57,
   "metadata": {},
   "outputs": [],
   "source": [
    "import random\n",
    "msgdict={\n",
    "    0:2,\n",
    "    3:5,\n",
    "    5:6\n",
    "}\n",
    "length = len(msgdict)\n",
    "keys = list(msgdict.keys())\n",
    "key = keys[random.randint(0,length-1)]"
   ]
  },
  {
   "cell_type": "code",
   "execution_count": 34,
   "metadata": {},
   "outputs": [
    {
     "output_type": "execute_result",
     "data": {
      "text/plain": [
       "0"
      ]
     },
     "metadata": {},
     "execution_count": 34
    }
   ],
   "source": [
    "a"
   ]
  },
  {
   "cell_type": "code",
   "execution_count": 118,
   "metadata": {},
   "outputs": [],
   "source": [
    "checkmsg = '删除群组 /abc/         '\n",
    "res = re.match(r'删除(个人|群组) *(/.+/)? *(/.+/) *', checkmsg)"
   ]
  },
  {
   "cell_type": "code",
   "execution_count": 119,
   "metadata": {},
   "outputs": [
    {
     "output_type": "execute_result",
     "data": {
      "text/plain": [
       "('群组', None, '/abc/')"
      ]
     },
     "metadata": {},
     "execution_count": 119
    }
   ],
   "source": [
    "res.groups()"
   ]
  },
  {
   "cell_type": "code",
   "execution_count": 3,
   "metadata": {},
   "outputs": [
    {
     "output_type": "error",
     "ename": "TypeError",
     "evalue": "list indices must be integers or slices, not str",
     "traceback": [
      "\u001b[1;31m---------------------------------------------------------------------------\u001b[0m",
      "\u001b[1;31mTypeError\u001b[0m                                 Traceback (most recent call last)",
      "\u001b[1;32m<ipython-input-3-37f1182a364f>\u001b[0m in \u001b[0;36m<module>\u001b[1;34m\u001b[0m\n\u001b[0;32m      1\u001b[0m \u001b[0mlist\u001b[0m \u001b[1;33m=\u001b[0m \u001b[1;33m[\u001b[0m\u001b[1;34m'a'\u001b[0m\u001b[1;33m,\u001b[0m\u001b[1;34m'b'\u001b[0m\u001b[1;33m,\u001b[0m\u001b[1;34m'c'\u001b[0m\u001b[1;33m]\u001b[0m\u001b[1;33m\u001b[0m\u001b[1;33m\u001b[0m\u001b[0m\n\u001b[1;32m----> 2\u001b[1;33m \u001b[1;32mdel\u001b[0m \u001b[0mlist\u001b[0m\u001b[1;33m[\u001b[0m\u001b[1;34m'a'\u001b[0m\u001b[1;33m]\u001b[0m\u001b[1;33m\u001b[0m\u001b[1;33m\u001b[0m\u001b[0m\n\u001b[0m",
      "\u001b[1;31mTypeError\u001b[0m: list indices must be integers or slices, not str"
     ]
    }
   ],
   "source": [
    "list = ['a','b','c']\n",
    "del list['a']"
   ]
  },
  {
   "cell_type": "code",
   "execution_count": 2,
   "metadata": {},
   "outputs": [],
   "source": [
    "a=3"
   ]
  },
  {
   "cell_type": "code",
   "execution_count": 15,
   "metadata": {},
   "outputs": [],
   "source": [
    "str = f'/random 3-10 : {a}'"
   ]
  },
  {
   "cell_type": "code",
   "execution_count": 16,
   "metadata": {},
   "outputs": [
    {
     "output_type": "execute_result",
     "data": {
      "text/plain": [
       "'/random 3-10 : 3'"
      ]
     },
     "metadata": {},
     "execution_count": 16
    }
   ],
   "source": [
    "str"
   ]
  },
  {
   "cell_type": "code",
   "execution_count": 35,
   "metadata": {},
   "outputs": [],
   "source": [
    "import re\n",
    "raw_message = '绑定个人 /啊这/ 76561198406711620'\n",
    "res = re.match(\n",
    "        r'绑定个人 *[\\(（【/]?(.+)[\\)）】/]? *[\\(（【]?(7656\\d{13})[\\)）】]? *', raw_message)"
   ]
  },
  {
   "cell_type": "code",
   "execution_count": 36,
   "metadata": {},
   "outputs": [
    {
     "output_type": "execute_result",
     "data": {
      "text/plain": [
       "<re.Match object; span=(0, 27), match='绑定个人 /啊这/ 76561198406711620'>"
      ]
     },
     "metadata": {},
     "execution_count": 36
    }
   ],
   "source": [
    "res"
   ]
  },
  {
   "cell_type": "code",
   "execution_count": 37,
   "metadata": {},
   "outputs": [
    {
     "output_type": "execute_result",
     "data": {
      "text/plain": [
       "('啊这/ ', '76561198406711620')"
      ]
     },
     "metadata": {},
     "execution_count": 37
    }
   ],
   "source": [
    "res.groups()"
   ]
  },
  {
   "cell_type": "code",
   "execution_count": null,
   "metadata": {},
   "outputs": [],
   "source": []
  }
 ]
}